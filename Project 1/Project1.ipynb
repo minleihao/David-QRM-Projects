{
 "cells": [
  {
   "cell_type": "code",
   "execution_count": 11,
   "metadata": {},
   "outputs": [],
   "source": [
    "import pandas as pd\n",
    "import matplotlib.pyplot as plt"
   ]
  },
  {
   "cell_type": "markdown",
   "metadata": {},
   "source": [
    "### Problem 1\n",
    "Given the dataset in problem1.csv\n",
    "- CalculatetheMean,Variance,Skewness and Kurtosis of the data\n",
    "- Given a choice between a Normal Distribution and a T-Distribution,which one would you\n",
    "choose to model the data? Why?\n",
    "- Fit both distributions and prove or disprove your choice in B using methods presented in\n",
    "class."
   ]
  },
  {
   "cell_type": "code",
   "execution_count": 19,
   "metadata": {},
   "outputs": [
    {
     "data": {
      "text/html": [
       "<div>\n",
       "<style scoped>\n",
       "    .dataframe tbody tr th:only-of-type {\n",
       "        vertical-align: middle;\n",
       "    }\n",
       "\n",
       "    .dataframe tbody tr th {\n",
       "        vertical-align: top;\n",
       "    }\n",
       "\n",
       "    .dataframe thead th {\n",
       "        text-align: right;\n",
       "    }\n",
       "</style>\n",
       "<table border=\"1\" class=\"dataframe\">\n",
       "  <thead>\n",
       "    <tr style=\"text-align: right;\">\n",
       "      <th></th>\n",
       "      <th>X</th>\n",
       "    </tr>\n",
       "  </thead>\n",
       "  <tbody>\n",
       "    <tr>\n",
       "      <th>0</th>\n",
       "      <td>-0.118037</td>\n",
       "    </tr>\n",
       "    <tr>\n",
       "      <th>1</th>\n",
       "      <td>0.149343</td>\n",
       "    </tr>\n",
       "    <tr>\n",
       "      <th>2</th>\n",
       "      <td>-0.083849</td>\n",
       "    </tr>\n",
       "    <tr>\n",
       "      <th>3</th>\n",
       "      <td>-0.025407</td>\n",
       "    </tr>\n",
       "    <tr>\n",
       "      <th>4</th>\n",
       "      <td>0.119084</td>\n",
       "    </tr>\n",
       "  </tbody>\n",
       "</table>\n",
       "</div>"
      ],
      "text/plain": [
       "          X\n",
       "0 -0.118037\n",
       "1  0.149343\n",
       "2 -0.083849\n",
       "3 -0.025407\n",
       "4  0.119084"
      ]
     },
     "execution_count": 19,
     "metadata": {},
     "output_type": "execute_result"
    }
   ],
   "source": [
    "fpath1 = \"./problem1.csv\"\n",
    "dataSet1 = pd.read_csv(fpath1)\n",
    "dataSet1.head()"
   ]
  },
  {
   "cell_type": "code",
   "execution_count": 20,
   "metadata": {},
   "outputs": [
    {
     "name": "stdout",
     "output_type": "stream",
     "text": [
      "{'mean': X    0.050198\n",
      "dtype: float64, 'variance': X    0.010332\n",
      "dtype: float64, 'skewness': X    0.120626\n",
      "dtype: float64, 'kurtosis': X    0.23007\n",
      "dtype: float64}\n"
     ]
    }
   ],
   "source": [
    "mean1 = dataSet1.mean()\n",
    "var1 = dataSet1.var()\n",
    "skew1 = dataSet1.skew()\n",
    "kurt1 = dataSet1.kurt()\n",
    "printDic = {'mean': mean1, 'variance': var1, 'skewness': skew1, 'kurtosis': kurt1}\n",
    "print(printDic)"
   ]
  },
  {
   "cell_type": "markdown",
   "metadata": {},
   "source": [
    "If the dataset follows normal distribution, the skewness and kurtosis of it should be close to zero. However, the skewness of this dataset is 0.12 while kurtosis is 0.23, which means the dataset may follow a t-distribution."
   ]
  },
  {
   "cell_type": "code",
   "execution_count": null,
   "metadata": {},
   "outputs": [],
   "source": []
  }
 ],
 "metadata": {
  "kernelspec": {
   "display_name": "DataWrangling",
   "language": "python",
   "name": "python3"
  },
  "language_info": {
   "codemirror_mode": {
    "name": "ipython",
    "version": 3
   },
   "file_extension": ".py",
   "mimetype": "text/x-python",
   "name": "python",
   "nbconvert_exporter": "python",
   "pygments_lexer": "ipython3",
   "version": "3.12.8"
  }
 },
 "nbformat": 4,
 "nbformat_minor": 2
}
